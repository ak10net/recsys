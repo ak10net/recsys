{
 "cells": [
  {
   "cell_type": "code",
   "execution_count": 1,
   "id": "royal-alexandria",
   "metadata": {},
   "outputs": [],
   "source": [
    "import numpy as np\n",
    "import pandas as pd\n",
    "import matplotlib.pyplot as plt\n",
    "%matplotlib inline\n",
    "\n",
    "from sklearn.datasets import fetch_openml"
   ]
  },
  {
   "cell_type": "code",
   "execution_count": 2,
   "id": "becoming-impression",
   "metadata": {},
   "outputs": [],
   "source": [
    "data= fetch_openml(data_id=1220)"
   ]
  },
  {
   "cell_type": "code",
   "execution_count": 3,
   "id": "massive-academy",
   "metadata": {},
   "outputs": [],
   "source": [
    "df = pd.DataFrame(\n",
    "    data['data'],\n",
    "    columns=data['feature_names']\n",
    ")[['user_id', 'ad_id']].astype(int)\n",
    "\n",
    "df['user_rating'] = pd.Series(data['target']).astype(int)"
   ]
  },
  {
   "cell_type": "code",
   "execution_count": 4,
   "id": "metric-comedy",
   "metadata": {},
   "outputs": [
    {
     "data": {
      "text/html": [
       "<div>\n",
       "<style scoped>\n",
       "    .dataframe tbody tr th:only-of-type {\n",
       "        vertical-align: middle;\n",
       "    }\n",
       "\n",
       "    .dataframe tbody tr th {\n",
       "        vertical-align: top;\n",
       "    }\n",
       "\n",
       "    .dataframe thead th {\n",
       "        text-align: right;\n",
       "    }\n",
       "</style>\n",
       "<table border=\"1\" class=\"dataframe\">\n",
       "  <thead>\n",
       "    <tr style=\"text-align: right;\">\n",
       "      <th>ad_id</th>\n",
       "      <th>6803526</th>\n",
       "      <th>8343295</th>\n",
       "      <th>9027213</th>\n",
       "      <th>20017077</th>\n",
       "      <th>20366086</th>\n",
       "      <th>20886690</th>\n",
       "      <th>21186478</th>\n",
       "      <th>21348354</th>\n",
       "      <th>21367376</th>\n",
       "      <th>21811752</th>\n",
       "    </tr>\n",
       "    <tr>\n",
       "      <th>user_id</th>\n",
       "      <th></th>\n",
       "      <th></th>\n",
       "      <th></th>\n",
       "      <th></th>\n",
       "      <th></th>\n",
       "      <th></th>\n",
       "      <th></th>\n",
       "      <th></th>\n",
       "      <th></th>\n",
       "      <th></th>\n",
       "    </tr>\n",
       "  </thead>\n",
       "  <tbody>\n",
       "    <tr>\n",
       "      <th>0</th>\n",
       "      <td>0</td>\n",
       "      <td>0</td>\n",
       "      <td>0</td>\n",
       "      <td>0</td>\n",
       "      <td>0</td>\n",
       "      <td>0</td>\n",
       "      <td>0</td>\n",
       "      <td>0</td>\n",
       "      <td>0</td>\n",
       "      <td>0</td>\n",
       "    </tr>\n",
       "    <tr>\n",
       "      <th>562934</th>\n",
       "      <td>0</td>\n",
       "      <td>0</td>\n",
       "      <td>0</td>\n",
       "      <td>1</td>\n",
       "      <td>0</td>\n",
       "      <td>0</td>\n",
       "      <td>0</td>\n",
       "      <td>0</td>\n",
       "      <td>0</td>\n",
       "      <td>0</td>\n",
       "    </tr>\n",
       "    <tr>\n",
       "      <th>579253</th>\n",
       "      <td>0</td>\n",
       "      <td>0</td>\n",
       "      <td>0</td>\n",
       "      <td>0</td>\n",
       "      <td>0</td>\n",
       "      <td>0</td>\n",
       "      <td>0</td>\n",
       "      <td>0</td>\n",
       "      <td>0</td>\n",
       "      <td>0</td>\n",
       "    </tr>\n",
       "    <tr>\n",
       "      <th>2886008</th>\n",
       "      <td>0</td>\n",
       "      <td>0</td>\n",
       "      <td>0</td>\n",
       "      <td>0</td>\n",
       "      <td>0</td>\n",
       "      <td>0</td>\n",
       "      <td>1</td>\n",
       "      <td>0</td>\n",
       "      <td>0</td>\n",
       "      <td>0</td>\n",
       "    </tr>\n",
       "    <tr>\n",
       "      <th>5277279</th>\n",
       "      <td>0</td>\n",
       "      <td>0</td>\n",
       "      <td>0</td>\n",
       "      <td>0</td>\n",
       "      <td>0</td>\n",
       "      <td>0</td>\n",
       "      <td>0</td>\n",
       "      <td>0</td>\n",
       "      <td>0</td>\n",
       "      <td>0</td>\n",
       "    </tr>\n",
       "    <tr>\n",
       "      <th>7589739</th>\n",
       "      <td>0</td>\n",
       "      <td>0</td>\n",
       "      <td>0</td>\n",
       "      <td>0</td>\n",
       "      <td>0</td>\n",
       "      <td>0</td>\n",
       "      <td>0</td>\n",
       "      <td>0</td>\n",
       "      <td>0</td>\n",
       "      <td>0</td>\n",
       "    </tr>\n",
       "    <tr>\n",
       "      <th>8778348</th>\n",
       "      <td>0</td>\n",
       "      <td>0</td>\n",
       "      <td>0</td>\n",
       "      <td>0</td>\n",
       "      <td>0</td>\n",
       "      <td>0</td>\n",
       "      <td>0</td>\n",
       "      <td>0</td>\n",
       "      <td>0</td>\n",
       "      <td>0</td>\n",
       "    </tr>\n",
       "    <tr>\n",
       "      <th>11621116</th>\n",
       "      <td>0</td>\n",
       "      <td>0</td>\n",
       "      <td>0</td>\n",
       "      <td>0</td>\n",
       "      <td>0</td>\n",
       "      <td>0</td>\n",
       "      <td>0</td>\n",
       "      <td>0</td>\n",
       "      <td>0</td>\n",
       "      <td>0</td>\n",
       "    </tr>\n",
       "    <tr>\n",
       "      <th>11808635</th>\n",
       "      <td>0</td>\n",
       "      <td>0</td>\n",
       "      <td>1</td>\n",
       "      <td>0</td>\n",
       "      <td>0</td>\n",
       "      <td>0</td>\n",
       "      <td>0</td>\n",
       "      <td>0</td>\n",
       "      <td>0</td>\n",
       "      <td>0</td>\n",
       "    </tr>\n",
       "    <tr>\n",
       "      <th>12118311</th>\n",
       "      <td>0</td>\n",
       "      <td>0</td>\n",
       "      <td>0</td>\n",
       "      <td>0</td>\n",
       "      <td>0</td>\n",
       "      <td>0</td>\n",
       "      <td>0</td>\n",
       "      <td>0</td>\n",
       "      <td>0</td>\n",
       "      <td>0</td>\n",
       "    </tr>\n",
       "  </tbody>\n",
       "</table>\n",
       "</div>"
      ],
      "text/plain": [
       "ad_id     6803526   8343295   9027213   20017077  20366086  20886690  \\\n",
       "user_id                                                                \n",
       "0                0         0         0         0         0         0   \n",
       "562934           0         0         0         1         0         0   \n",
       "579253           0         0         0         0         0         0   \n",
       "2886008          0         0         0         0         0         0   \n",
       "5277279          0         0         0         0         0         0   \n",
       "7589739          0         0         0         0         0         0   \n",
       "8778348          0         0         0         0         0         0   \n",
       "11621116         0         0         0         0         0         0   \n",
       "11808635         0         0         1         0         0         0   \n",
       "12118311         0         0         0         0         0         0   \n",
       "\n",
       "ad_id     21186478  21348354  21367376  21811752  \n",
       "user_id                                           \n",
       "0                0         0         0         0  \n",
       "562934           0         0         0         0  \n",
       "579253           0         0         0         0  \n",
       "2886008          1         0         0         0  \n",
       "5277279          0         0         0         0  \n",
       "7589739          0         0         0         0  \n",
       "8778348          0         0         0         0  \n",
       "11621116         0         0         0         0  \n",
       "11808635         0         0         0         0  \n",
       "12118311         0         0         0         0  "
      ]
     },
     "execution_count": 4,
     "metadata": {},
     "output_type": "execute_result"
    }
   ],
   "source": [
    "df.head(10).groupby(['user_id', 'ad_id']).max().reset_index().pivot('user_id', 'ad_id','user_rating').fillna(0).astype(int)"
   ]
  },
  {
   "cell_type": "code",
   "execution_count": 5,
   "id": "guilty-lightning",
   "metadata": {},
   "outputs": [],
   "source": [
    "from surprise.dataset import Dataset\n",
    "from surprise import Reader\n",
    "from surprise.model_selection import train_test_split\n",
    "from surprise.model_selection import cross_validate"
   ]
  },
  {
   "cell_type": "code",
   "execution_count": 6,
   "id": "professional-audio",
   "metadata": {},
   "outputs": [],
   "source": [
    "reader = Reader(rating_scale=(0,1))\n",
    "dataset = Dataset.load_from_df(df, reader)"
   ]
  },
  {
   "cell_type": "code",
   "execution_count": 7,
   "id": "exterior-federation",
   "metadata": {},
   "outputs": [],
   "source": [
    "trainset, testset = train_test_split(dataset, test_size=0.25)"
   ]
  },
  {
   "cell_type": "code",
   "execution_count": 8,
   "id": "passing-tolerance",
   "metadata": {},
   "outputs": [],
   "source": [
    "def predict_evaluate(recsys, dataset, name='Algorithm'):\n",
    "    scores = cross_validate(\n",
    "        recsys, dataset, measures=['RMSE', 'MAE'], cv=4)\n",
    "    print('Testset Avg. MAE: {:.2f} & Avg RMSE: {:.2f} [{}]'.format(\n",
    "        scores['test_mae'].mean(),\n",
    "        scores['test_rmse'].mean(),\n",
    "        name\n",
    "    )\n",
    ")"
   ]
  },
  {
   "cell_type": "code",
   "execution_count": 9,
   "id": "dying-apparatus",
   "metadata": {},
   "outputs": [
    {
     "name": "stdout",
     "output_type": "stream",
     "text": [
      "Testset Avg. MAE: 0.18 & Avg RMSE: 0.42 [RandomRating]\n"
     ]
    }
   ],
   "source": [
    "from surprise import AlgoBase\n",
    "\n",
    "class RandomRating(AlgoBase):\n",
    "    def __init__(self, p=0.5):\n",
    "        self.p = p\n",
    "        AlgoBase.__init__(self)\n",
    "        \n",
    "    def estimate(self, u, i):\n",
    "        return np.random.binomial(n=1, p=self.p, size=1)[0]\n",
    "    \n",
    "recsys = RandomRating(p=0.0168)\n",
    "predict_evaluate(recsys, dataset, 'RandomRating')"
   ]
  },
  {
   "cell_type": "code",
   "execution_count": 10,
   "id": "radio-blues",
   "metadata": {},
   "outputs": [
    {
     "name": "stdout",
     "output_type": "stream",
     "text": [
      "Computing the msd similarity matrix...\n",
      "Done computing similarity matrix.\n",
      "Computing the msd similarity matrix...\n",
      "Done computing similarity matrix.\n",
      "Computing the msd similarity matrix...\n",
      "Done computing similarity matrix.\n",
      "Computing the msd similarity matrix...\n",
      "Done computing similarity matrix.\n",
      "Testset Avg. MAE: 0.28 & Avg RMSE: 0.38 [KNNBasic]\n"
     ]
    }
   ],
   "source": [
    "from surprise.prediction_algorithms.knns import KNNBasic\n",
    "recsys = KNNBasic()\n",
    "predict_evaluate(recsys, dataset, 'KNNBasic')"
   ]
  },
  {
   "cell_type": "code",
   "execution_count": 12,
   "id": "angry-process",
   "metadata": {},
   "outputs": [],
   "source": [
    "from surprise.model_selection import GridSearchCV\n",
    "\n",
    "param_grid = {\n",
    "    'sim_options': {\n",
    "        'name': ['cosine', 'pearson']\n",
    "    },\n",
    "    'k': [5,10,20,40],\n",
    "    'verbose': [True]\n",
    "}\n",
    "\n",
    "dataset_subset = Dataset.load_from_df(df.sample(frac=0.25, random_state=0), reader)\n",
    "\n",
    "gscv = GridSearchCV(KNNBasic, param_grid, measures=['rmse', 'mae'],\n",
    "                   cv=4, n_jobs=-1)\n",
    "\n",
    "#print('Best MAE:', gscv.best_score['mae'].round(2))\n",
    "#print('Best RMSE:', gscv.best_score['rmse'].round(2))\n",
    "#print('Best Params', gscv.best_params['rmse'])"
   ]
  },
  {
   "cell_type": "code",
   "execution_count": 13,
   "id": "suspended-problem",
   "metadata": {},
   "outputs": [
    {
     "name": "stdout",
     "output_type": "stream",
     "text": [
      "Testset Avg. MAE: 0.27 & Avg RMSE: 0.37 [BaselineOnly]\n"
     ]
    }
   ],
   "source": [
    "from surprise.prediction_algorithms.baseline_only import BaselineOnly\n",
    "recsys = BaselineOnly(verbose=False)\n",
    "predict_evaluate(recsys, dataset, 'BaselineOnly')"
   ]
  },
  {
   "cell_type": "code",
   "execution_count": 17,
   "id": "earned-castle",
   "metadata": {},
   "outputs": [],
   "source": [
    "## SVD"
   ]
  },
  {
   "cell_type": "code",
   "execution_count": 18,
   "id": "bulgarian-plymouth",
   "metadata": {},
   "outputs": [],
   "source": [
    "music_ratings = [('U1', 'Metallica'), ('U1', 'Rammstein'), ('U2',\n",
    "'Rammstein'), ('U3', 'Tiesto'), ('U3', 'Paul van Dyk'), ('U2',\n",
    "'Metallica'), ('U4', 'Tiesto'), ('U4', 'Paul van Dyk'), ('U5',\n",
    "'Metallica'), ('U5', 'Slipknot'), ('U6', 'Tiesto'), ('U6', 'Aly & Fila'),\n",
    "('U3', 'Aly & Fila')]"
   ]
  },
  {
   "cell_type": "code",
   "execution_count": 19,
   "id": "rotary-first",
   "metadata": {},
   "outputs": [],
   "source": [
    "df_music_ratings = pd.DataFrame(music_ratings, columns=['User', 'Artist'])"
   ]
  },
  {
   "cell_type": "code",
   "execution_count": 21,
   "id": "outdoor-soundtrack",
   "metadata": {},
   "outputs": [],
   "source": [
    "df_music_ratings['Rating'] = 1"
   ]
  },
  {
   "cell_type": "code",
   "execution_count": 23,
   "id": "synthetic-calculation",
   "metadata": {},
   "outputs": [],
   "source": [
    "df_music_ratings_pivoted = df_music_ratings.pivot(\n",
    "    'User', 'Artist', 'Rating'\n",
    ").fillna(0)"
   ]
  },
  {
   "cell_type": "code",
   "execution_count": 24,
   "id": "grave-jacob",
   "metadata": {},
   "outputs": [
    {
     "data": {
      "text/html": [
       "<div>\n",
       "<style scoped>\n",
       "    .dataframe tbody tr th:only-of-type {\n",
       "        vertical-align: middle;\n",
       "    }\n",
       "\n",
       "    .dataframe tbody tr th {\n",
       "        vertical-align: top;\n",
       "    }\n",
       "\n",
       "    .dataframe thead th {\n",
       "        text-align: right;\n",
       "    }\n",
       "</style>\n",
       "<table border=\"1\" class=\"dataframe\">\n",
       "  <thead>\n",
       "    <tr style=\"text-align: right;\">\n",
       "      <th>Artist</th>\n",
       "      <th>Aly &amp; Fila</th>\n",
       "      <th>Metallica</th>\n",
       "      <th>Paul van Dyk</th>\n",
       "      <th>Rammstein</th>\n",
       "      <th>Slipknot</th>\n",
       "      <th>Tiesto</th>\n",
       "    </tr>\n",
       "    <tr>\n",
       "      <th>User</th>\n",
       "      <th></th>\n",
       "      <th></th>\n",
       "      <th></th>\n",
       "      <th></th>\n",
       "      <th></th>\n",
       "      <th></th>\n",
       "    </tr>\n",
       "  </thead>\n",
       "  <tbody>\n",
       "    <tr>\n",
       "      <th>U1</th>\n",
       "      <td>0.0</td>\n",
       "      <td>1.0</td>\n",
       "      <td>0.0</td>\n",
       "      <td>1.0</td>\n",
       "      <td>0.0</td>\n",
       "      <td>0.0</td>\n",
       "    </tr>\n",
       "    <tr>\n",
       "      <th>U2</th>\n",
       "      <td>0.0</td>\n",
       "      <td>1.0</td>\n",
       "      <td>0.0</td>\n",
       "      <td>1.0</td>\n",
       "      <td>0.0</td>\n",
       "      <td>0.0</td>\n",
       "    </tr>\n",
       "    <tr>\n",
       "      <th>U3</th>\n",
       "      <td>1.0</td>\n",
       "      <td>0.0</td>\n",
       "      <td>1.0</td>\n",
       "      <td>0.0</td>\n",
       "      <td>0.0</td>\n",
       "      <td>1.0</td>\n",
       "    </tr>\n",
       "    <tr>\n",
       "      <th>U4</th>\n",
       "      <td>0.0</td>\n",
       "      <td>0.0</td>\n",
       "      <td>1.0</td>\n",
       "      <td>0.0</td>\n",
       "      <td>0.0</td>\n",
       "      <td>1.0</td>\n",
       "    </tr>\n",
       "    <tr>\n",
       "      <th>U5</th>\n",
       "      <td>0.0</td>\n",
       "      <td>1.0</td>\n",
       "      <td>0.0</td>\n",
       "      <td>0.0</td>\n",
       "      <td>1.0</td>\n",
       "      <td>0.0</td>\n",
       "    </tr>\n",
       "    <tr>\n",
       "      <th>U6</th>\n",
       "      <td>1.0</td>\n",
       "      <td>0.0</td>\n",
       "      <td>0.0</td>\n",
       "      <td>0.0</td>\n",
       "      <td>0.0</td>\n",
       "      <td>1.0</td>\n",
       "    </tr>\n",
       "  </tbody>\n",
       "</table>\n",
       "</div>"
      ],
      "text/plain": [
       "Artist  Aly & Fila  Metallica  Paul van Dyk  Rammstein  Slipknot  Tiesto\n",
       "User                                                                    \n",
       "U1             0.0        1.0           0.0        1.0       0.0     0.0\n",
       "U2             0.0        1.0           0.0        1.0       0.0     0.0\n",
       "U3             1.0        0.0           1.0        0.0       0.0     1.0\n",
       "U4             0.0        0.0           1.0        0.0       0.0     1.0\n",
       "U5             0.0        1.0           0.0        0.0       1.0     0.0\n",
       "U6             1.0        0.0           0.0        0.0       0.0     1.0"
      ]
     },
     "execution_count": 24,
     "metadata": {},
     "output_type": "execute_result"
    }
   ],
   "source": [
    "df_music_ratings_pivoted"
   ]
  },
  {
   "cell_type": "code",
   "execution_count": 25,
   "id": "brief-findings",
   "metadata": {},
   "outputs": [
    {
     "data": {
      "text/plain": [
       "array([[-0.  ,  1.37],\n",
       "       [-0.  ,  1.37],\n",
       "       [ 1.71,  0.  ],\n",
       "       [ 1.21,  0.  ],\n",
       "       [-0.  ,  1.  ],\n",
       "       [ 1.21,  0.  ]])"
      ]
     },
     "execution_count": 25,
     "metadata": {},
     "output_type": "execute_result"
    }
   ],
   "source": [
    "from sklearn.decomposition import TruncatedSVD\n",
    "svd = TruncatedSVD(n_components=2)\n",
    "svd.fit_transform(df_music_ratings_pivoted).round(2)"
   ]
  },
  {
   "cell_type": "code",
   "execution_count": 26,
   "id": "australian-brush",
   "metadata": {},
   "outputs": [
    {
     "data": {
      "text/html": [
       "<style  type=\"text/css\" >\n",
       "#T_24ae9_row0_col0,#T_24ae9_row1_col0,#T_24ae9_row2_col1,#T_24ae9_row3_col1,#T_24ae9_row4_col0,#T_24ae9_row5_col1{\n",
       "            width:  10em;\n",
       "             height:  80%;\n",
       "        }#T_24ae9_row0_col1,#T_24ae9_row1_col1,#T_24ae9_row2_col0{\n",
       "            width:  10em;\n",
       "             height:  80%;\n",
       "            background:  linear-gradient(90deg,#AAA 100.0%, transparent 100.0%);\n",
       "        }#T_24ae9_row3_col0,#T_24ae9_row5_col0{\n",
       "            width:  10em;\n",
       "             height:  80%;\n",
       "            background:  linear-gradient(90deg,#AAA 70.8%, transparent 70.8%);\n",
       "        }#T_24ae9_row4_col1{\n",
       "            width:  10em;\n",
       "             height:  80%;\n",
       "            background:  linear-gradient(90deg,#AAA 73.0%, transparent 73.0%);\n",
       "        }</style><table id=\"T_24ae9_\" ><thead>    <tr>        <th class=\"blank level0\" ></th>        <th class=\"col_heading level0 col0\" >SV1</th>        <th class=\"col_heading level0 col1\" >SV2</th>    </tr>    <tr>        <th class=\"index_name level0\" >User</th>        <th class=\"blank\" ></th>        <th class=\"blank\" ></th>    </tr></thead><tbody>\n",
       "                <tr>\n",
       "                        <th id=\"T_24ae9_level0_row0\" class=\"row_heading level0 row0\" >U1</th>\n",
       "                        <td id=\"T_24ae9_row0_col0\" class=\"data row0 col0\" >0.000000</td>\n",
       "                        <td id=\"T_24ae9_row0_col1\" class=\"data row0 col1\" >1.370000</td>\n",
       "            </tr>\n",
       "            <tr>\n",
       "                        <th id=\"T_24ae9_level0_row1\" class=\"row_heading level0 row1\" >U2</th>\n",
       "                        <td id=\"T_24ae9_row1_col0\" class=\"data row1 col0\" >0.000000</td>\n",
       "                        <td id=\"T_24ae9_row1_col1\" class=\"data row1 col1\" >1.370000</td>\n",
       "            </tr>\n",
       "            <tr>\n",
       "                        <th id=\"T_24ae9_level0_row2\" class=\"row_heading level0 row2\" >U3</th>\n",
       "                        <td id=\"T_24ae9_row2_col0\" class=\"data row2 col0\" >1.710000</td>\n",
       "                        <td id=\"T_24ae9_row2_col1\" class=\"data row2 col1\" >0.000000</td>\n",
       "            </tr>\n",
       "            <tr>\n",
       "                        <th id=\"T_24ae9_level0_row3\" class=\"row_heading level0 row3\" >U4</th>\n",
       "                        <td id=\"T_24ae9_row3_col0\" class=\"data row3 col0\" >1.210000</td>\n",
       "                        <td id=\"T_24ae9_row3_col1\" class=\"data row3 col1\" >0.000000</td>\n",
       "            </tr>\n",
       "            <tr>\n",
       "                        <th id=\"T_24ae9_level0_row4\" class=\"row_heading level0 row4\" >U5</th>\n",
       "                        <td id=\"T_24ae9_row4_col0\" class=\"data row4 col0\" >-0.000000</td>\n",
       "                        <td id=\"T_24ae9_row4_col1\" class=\"data row4 col1\" >1.000000</td>\n",
       "            </tr>\n",
       "            <tr>\n",
       "                        <th id=\"T_24ae9_level0_row5\" class=\"row_heading level0 row5\" >U6</th>\n",
       "                        <td id=\"T_24ae9_row5_col0\" class=\"data row5 col0\" >1.210000</td>\n",
       "                        <td id=\"T_24ae9_row5_col1\" class=\"data row5 col1\" >0.000000</td>\n",
       "            </tr>\n",
       "    </tbody></table>"
      ],
      "text/plain": [
       "<pandas.io.formats.style.Styler at 0x16abe0e0a90>"
      ]
     },
     "execution_count": 26,
     "metadata": {},
     "output_type": "execute_result"
    }
   ],
   "source": [
    "pd.DataFrame(\n",
    "    svd.fit_transform(df_music_ratings_pivoted),\n",
    "    index=df_music_ratings_pivoted.index,\n",
    "    columns=['SV1', 'SV2'],\n",
    "    ).round(2).style.bar(\n",
    "    subset=['SV1', 'SV2'], align='mid', color='#AAA'\n",
    ")"
   ]
  },
  {
   "cell_type": "code",
   "execution_count": 27,
   "id": "amber-reproduction",
   "metadata": {},
   "outputs": [
    {
     "data": {
      "text/html": [
       "<style  type=\"text/css\" >\n",
       "#T_6d23f_row0_col0,#T_6d23f_row0_col1,#T_6d23f_row1_col0,#T_6d23f_row1_col1,#T_6d23f_row2_col2,#T_6d23f_row3_col3{\n",
       "            width:  10em;\n",
       "             height:  80%;\n",
       "            background:  linear-gradient(90deg,#AAA 100.0%, transparent 100.0%);\n",
       "        }#T_6d23f_row0_col2,#T_6d23f_row1_col2,#T_6d23f_row2_col0,#T_6d23f_row2_col1,#T_6d23f_row2_col3,#T_6d23f_row3_col2{\n",
       "            width:  10em;\n",
       "             height:  80%;\n",
       "        }#T_6d23f_row0_col3,#T_6d23f_row1_col3,#T_6d23f_row3_col0,#T_6d23f_row3_col1{\n",
       "            width:  10em;\n",
       "             height:  80%;\n",
       "            background:  linear-gradient(90deg,#AAA 50.0%, transparent 50.0%);\n",
       "        }</style><table id=\"T_6d23f_\" ><thead>    <tr>        <th class=\"blank level0\" ></th>        <th class=\"col_heading level0 col0\" >U1</th>        <th class=\"col_heading level0 col1\" >U2</th>        <th class=\"col_heading level0 col2\" >U3</th>        <th class=\"col_heading level0 col3\" >U5</th>    </tr></thead><tbody>\n",
       "                <tr>\n",
       "                        <th id=\"T_6d23f_level0_row0\" class=\"row_heading level0 row0\" >U1</th>\n",
       "                        <td id=\"T_6d23f_row0_col0\" class=\"data row0 col0\" >1.000000</td>\n",
       "                        <td id=\"T_6d23f_row0_col1\" class=\"data row0 col1\" >1.000000</td>\n",
       "                        <td id=\"T_6d23f_row0_col2\" class=\"data row0 col2\" >0.000000</td>\n",
       "                        <td id=\"T_6d23f_row0_col3\" class=\"data row0 col3\" >0.500000</td>\n",
       "            </tr>\n",
       "            <tr>\n",
       "                        <th id=\"T_6d23f_level0_row1\" class=\"row_heading level0 row1\" >U2</th>\n",
       "                        <td id=\"T_6d23f_row1_col0\" class=\"data row1 col0\" >1.000000</td>\n",
       "                        <td id=\"T_6d23f_row1_col1\" class=\"data row1 col1\" >1.000000</td>\n",
       "                        <td id=\"T_6d23f_row1_col2\" class=\"data row1 col2\" >0.000000</td>\n",
       "                        <td id=\"T_6d23f_row1_col3\" class=\"data row1 col3\" >0.500000</td>\n",
       "            </tr>\n",
       "            <tr>\n",
       "                        <th id=\"T_6d23f_level0_row2\" class=\"row_heading level0 row2\" >U3</th>\n",
       "                        <td id=\"T_6d23f_row2_col0\" class=\"data row2 col0\" >0.000000</td>\n",
       "                        <td id=\"T_6d23f_row2_col1\" class=\"data row2 col1\" >0.000000</td>\n",
       "                        <td id=\"T_6d23f_row2_col2\" class=\"data row2 col2\" >1.000000</td>\n",
       "                        <td id=\"T_6d23f_row2_col3\" class=\"data row2 col3\" >0.000000</td>\n",
       "            </tr>\n",
       "            <tr>\n",
       "                        <th id=\"T_6d23f_level0_row3\" class=\"row_heading level0 row3\" >U5</th>\n",
       "                        <td id=\"T_6d23f_row3_col0\" class=\"data row3 col0\" >0.500000</td>\n",
       "                        <td id=\"T_6d23f_row3_col1\" class=\"data row3 col1\" >0.500000</td>\n",
       "                        <td id=\"T_6d23f_row3_col2\" class=\"data row3 col2\" >0.000000</td>\n",
       "                        <td id=\"T_6d23f_row3_col3\" class=\"data row3 col3\" >1.000000</td>\n",
       "            </tr>\n",
       "    </tbody></table>"
      ],
      "text/plain": [
       "<pandas.io.formats.style.Styler at 0x16abd457240>"
      ]
     },
     "execution_count": 27,
     "metadata": {},
     "output_type": "execute_result"
    }
   ],
   "source": [
    "from sklearn.metrics.pairwise import cosine_similarity\n",
    "\n",
    "user_ids = ['U1', 'U2', 'U3', 'U5']\n",
    "\n",
    "pd.DataFrame(\n",
    "    cosine_similarity(\n",
    "        df_music_ratings_pivoted.loc[user_ids, :].values\n",
    "    ),\n",
    "    index=user_ids,\n",
    "    columns=user_ids\n",
    ").round(2).style.bar(\n",
    "    subset=user_ids, align='mid', color='#AAA'\n",
    ")"
   ]
  },
  {
   "cell_type": "code",
   "execution_count": 28,
   "id": "contrary-feeding",
   "metadata": {},
   "outputs": [
    {
     "data": {
      "text/html": [
       "<style  type=\"text/css\" >\n",
       "#T_a5594_row0_col0,#T_a5594_row0_col1,#T_a5594_row0_col3,#T_a5594_row1_col0,#T_a5594_row1_col1,#T_a5594_row1_col3,#T_a5594_row2_col2,#T_a5594_row3_col0,#T_a5594_row3_col1,#T_a5594_row3_col3{\n",
       "            width:  10em;\n",
       "             height:  80%;\n",
       "            background:  linear-gradient(90deg,#AAA 100.0%, transparent 100.0%);\n",
       "        }#T_a5594_row0_col2,#T_a5594_row1_col2,#T_a5594_row2_col0,#T_a5594_row2_col1,#T_a5594_row2_col3,#T_a5594_row3_col2{\n",
       "            width:  10em;\n",
       "             height:  80%;\n",
       "        }</style><table id=\"T_a5594_\" ><thead>    <tr>        <th class=\"blank level0\" ></th>        <th class=\"col_heading level0 col0\" >U1</th>        <th class=\"col_heading level0 col1\" >U2</th>        <th class=\"col_heading level0 col2\" >U3</th>        <th class=\"col_heading level0 col3\" >U5</th>    </tr></thead><tbody>\n",
       "                <tr>\n",
       "                        <th id=\"T_a5594_level0_row0\" class=\"row_heading level0 row0\" >U1</th>\n",
       "                        <td id=\"T_a5594_row0_col0\" class=\"data row0 col0\" >1.000000</td>\n",
       "                        <td id=\"T_a5594_row0_col1\" class=\"data row0 col1\" >1.000000</td>\n",
       "                        <td id=\"T_a5594_row0_col2\" class=\"data row0 col2\" >-0.000000</td>\n",
       "                        <td id=\"T_a5594_row0_col3\" class=\"data row0 col3\" >1.000000</td>\n",
       "            </tr>\n",
       "            <tr>\n",
       "                        <th id=\"T_a5594_level0_row1\" class=\"row_heading level0 row1\" >U2</th>\n",
       "                        <td id=\"T_a5594_row1_col0\" class=\"data row1 col0\" >1.000000</td>\n",
       "                        <td id=\"T_a5594_row1_col1\" class=\"data row1 col1\" >1.000000</td>\n",
       "                        <td id=\"T_a5594_row1_col2\" class=\"data row1 col2\" >-0.000000</td>\n",
       "                        <td id=\"T_a5594_row1_col3\" class=\"data row1 col3\" >1.000000</td>\n",
       "            </tr>\n",
       "            <tr>\n",
       "                        <th id=\"T_a5594_level0_row2\" class=\"row_heading level0 row2\" >U3</th>\n",
       "                        <td id=\"T_a5594_row2_col0\" class=\"data row2 col0\" >-0.000000</td>\n",
       "                        <td id=\"T_a5594_row2_col1\" class=\"data row2 col1\" >-0.000000</td>\n",
       "                        <td id=\"T_a5594_row2_col2\" class=\"data row2 col2\" >1.000000</td>\n",
       "                        <td id=\"T_a5594_row2_col3\" class=\"data row2 col3\" >-0.000000</td>\n",
       "            </tr>\n",
       "            <tr>\n",
       "                        <th id=\"T_a5594_level0_row3\" class=\"row_heading level0 row3\" >U5</th>\n",
       "                        <td id=\"T_a5594_row3_col0\" class=\"data row3 col0\" >1.000000</td>\n",
       "                        <td id=\"T_a5594_row3_col1\" class=\"data row3 col1\" >1.000000</td>\n",
       "                        <td id=\"T_a5594_row3_col2\" class=\"data row3 col2\" >-0.000000</td>\n",
       "                        <td id=\"T_a5594_row3_col3\" class=\"data row3 col3\" >1.000000</td>\n",
       "            </tr>\n",
       "    </tbody></table>"
      ],
      "text/plain": [
       "<pandas.io.formats.style.Styler at 0x16ac3b85a90>"
      ]
     },
     "execution_count": 28,
     "metadata": {},
     "output_type": "execute_result"
    }
   ],
   "source": [
    "from sklearn.decomposition import TruncatedSVD\n",
    "\n",
    "user_ids = ['U1', 'U2', 'U3', 'U5']\n",
    "\n",
    "svd = TruncatedSVD(n_components=2)\n",
    "\n",
    "df_user_svd = pd.DataFrame(\n",
    "    svd.fit_transform(df_music_ratings_pivoted),\n",
    "    index=df_music_ratings_pivoted.index,\n",
    "    columns=['SV1', 'SV2'],\n",
    ")\n",
    "    \n",
    "pd.DataFrame(\n",
    "    cosine_similarity(\n",
    "    df_user_svd.loc[user_ids, :].values\n",
    "    ),\n",
    "    index=user_ids,\n",
    "    columns=user_ids\n",
    ").round(2).style.bar(\n",
    "    subset=user_ids, align='mid', color='#AAA'\n",
    ")"
   ]
  },
  {
   "cell_type": "code",
   "execution_count": 29,
   "id": "egyptian-nurse",
   "metadata": {},
   "outputs": [
    {
     "name": "stdout",
     "output_type": "stream",
     "text": [
      "Testset Avg. MAE: 0.26 & Avg RMSE: 0.37 [SVD]\n"
     ]
    }
   ],
   "source": [
    "from surprise.prediction_algorithms.matrix_factorization import SVD\n",
    "recsys = SVD()\n",
    "predict_evaluate(recsys, dataset, 'SVD')"
   ]
  },
  {
   "cell_type": "code",
   "execution_count": 31,
   "id": "italic-incidence",
   "metadata": {},
   "outputs": [
    {
     "data": {
      "text/plain": [
       "['recsys.pkl']"
      ]
     },
     "execution_count": 31,
     "metadata": {},
     "output_type": "execute_result"
    }
   ],
   "source": [
    "import joblib\n",
    "\n",
    "recsys.fit(trainset)\n",
    "joblib.dump(recsys, 'recsys.pkl')"
   ]
  },
  {
   "cell_type": "code",
   "execution_count": null,
   "id": "sharp-testament",
   "metadata": {},
   "outputs": [],
   "source": [
    "from surprise import accuracy\n",
    "\n",
    "recsys = joblib.load('recsys.pkl')\n",
    "predictions = recsys.test(testset)"
   ]
  }
 ],
 "metadata": {
  "kernelspec": {
   "display_name": "Python 3",
   "language": "python",
   "name": "python3"
  },
  "language_info": {
   "codemirror_mode": {
    "name": "ipython",
    "version": 3
   },
   "file_extension": ".py",
   "mimetype": "text/x-python",
   "name": "python",
   "nbconvert_exporter": "python",
   "pygments_lexer": "ipython3",
   "version": "3.7.2"
  }
 },
 "nbformat": 4,
 "nbformat_minor": 5
}
