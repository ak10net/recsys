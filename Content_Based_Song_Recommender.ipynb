{
 "cells": [
  {
   "cell_type": "code",
   "execution_count": null,
   "id": "removed-pontiac",
   "metadata": {},
   "outputs": [],
   "source": [
    "# Post for this notebook at https://ak10net.github.io/2021-05-01/content-recommender"
   ]
  },
  {
   "cell_type": "code",
   "execution_count": 131,
   "id": "obvious-closer",
   "metadata": {},
   "outputs": [],
   "source": [
    "from collections import Counter\n",
    "import pandas as pd\n",
    "import re\n",
    "from langdetect import detect\n",
    "import matplotlib.pyplot as plt\n",
    "from sklearn.feature_extraction.text import TfidfVectorizer\n",
    "from sklearn.metrics.pairwise import linear_kernel\n",
    "from collections import Counter\n",
    "%matplotlib inline\n",
    "import seaborn as sns\n",
    "sns.set(rc={'figure.figsize':(10,7)})\n",
    "pd.set_option('max_colwidth', 400)"
   ]
  },
  {
   "cell_type": "code",
   "execution_count": 132,
   "id": "demonstrated-consumer",
   "metadata": {},
   "outputs": [],
   "source": [
    "# Data source - https://www.cs.cornell.edu/~arb/data/genius-expertise/\n",
    "# About the dataset - https://github.com/cptq/genius-expertise/tree/master/data\n",
    "df = pd.read_json('lyrics.jl', lines=True)"
   ]
  },
  {
   "cell_type": "code",
   "execution_count": 137,
   "id": "hispanic-surname",
   "metadata": {},
   "outputs": [
    {
     "data": {
      "text/html": [
       "<div>\n",
       "<style scoped>\n",
       "    .dataframe tbody tr th:only-of-type {\n",
       "        vertical-align: middle;\n",
       "    }\n",
       "\n",
       "    .dataframe tbody tr th {\n",
       "        vertical-align: top;\n",
       "    }\n",
       "\n",
       "    .dataframe thead th {\n",
       "        text-align: right;\n",
       "    }\n",
       "</style>\n",
       "<table border=\"1\" class=\"dataframe\">\n",
       "  <thead>\n",
       "    <tr style=\"text-align: right;\">\n",
       "      <th></th>\n",
       "      <th>song</th>\n",
       "      <th>lyrics</th>\n",
       "    </tr>\n",
       "  </thead>\n",
       "  <tbody>\n",
       "    <tr>\n",
       "      <th>33860</th>\n",
       "      <td>Vice-obsession-lyrics</td>\n",
       "      <td>\\n\\n[Verse 1: Jon Bellion]\\nIt's 2AM and cold outside\\nIs it too late to come, oh?\\nI can't even sleep at night 'cause, oh\\nIt's 3AM, I'm parked outside\\nI'm walking to your door, oh\\nAnd that can't wait another night 'cause, oh\\n\\n[Chorus: Jon Bellion]\\nOh, twenty-five, twenty-five seven and\\nI give you all my attention\\nBaby, you're my obsession\\nOh, twenty-five, twenty-five seven and\\nI giv...</td>\n",
       "    </tr>\n",
       "    <tr>\n",
       "      <th>5278</th>\n",
       "      <td>Lil-wayne-no-lie-remix-lyrics</td>\n",
       "      <td>\\n\\n[Intro]\\nEar Drummers\\nMike WiLL Made-It\\n\\n[Verse 1]\\nI am sippin' on that lean, don't bring me no bottles, ho\\nI make it rain so hard, flowers grow, Hollygrove\\nFour baby mamas, no baby mama drama\\nBad bitch at home sleep, I go home and sleep behind her, uh\\nShout out to my weed man, shout out to my lean man\\nI'm sittin' on these motherfuckin' millions like a beanbag\\nFuck you, don't jud...</td>\n",
       "    </tr>\n",
       "    <tr>\n",
       "      <th>6908</th>\n",
       "      <td>Jay-z-devils-lyrics</td>\n",
       "      <td>\\n\\n[Produced by DJ Premier]\\n\\n[Hook Samples: Snoop Dogg + Prodigy]\\n\"Dear God – I wonder, can you save me?\"\\n\"Illuminati want my mind, soul and my body\"\\n\"Dear God – I wonder, can you save me?\"\\n\"Secret society, tryna keep they eye on me\"\\n\"Dear God – I wonder, can you save me?\"\\n\"Illuminati want my mind, soul and my body\"\\n\"Dear God – I wonder, can you save me?\"\\n\"I can't die, I can't die, ...</td>\n",
       "    </tr>\n",
       "    <tr>\n",
       "      <th>16394</th>\n",
       "      <td>Lecrae-darkest-hour-lyrics</td>\n",
       "      <td>\\n\\n[Intro: No Malice]\\nOk, yes, uh huh, No Malice and Lecrae\\n\\n[Verse 1: No Malice]\\nLord have mercy and pity on your son\\nFrom what I once was, to what I have become\\nForgive me for my past and the noses left numb\\nAs I'm led down this path to the beat of a different drum\\nFee-fi-fo-fum I'm conquering my giants\\nAnd all by my lonesome I'm conquering Goliath\\nI cut it on the buyers, now I tr...</td>\n",
       "    </tr>\n",
       "    <tr>\n",
       "      <th>17398</th>\n",
       "      <td>Nirvana-all-apologies-lyrics</td>\n",
       "      <td>\\n\\n[Verse 1]\\nWhat else should I be? All apologies\\nWhat else could I say? Everyone is gay\\nWhat else should I write? I don't have the right\\nWhat else should I be? All apologies\\n\\n[Chorus]\\nIn the sun, in the sun, I feel as one\\nIn the sun, in the sun\\nMarried, buried\\n\\n[Verse 2]\\nI wish I was like you, easily amused\\nFind my nest of salt, everything is my fault\\nI'll take all the blame, I...</td>\n",
       "    </tr>\n",
       "  </tbody>\n",
       "</table>\n",
       "</div>"
      ],
      "text/plain": [
       "                                song  \\\n",
       "33860          Vice-obsession-lyrics   \n",
       "5278   Lil-wayne-no-lie-remix-lyrics   \n",
       "6908             Jay-z-devils-lyrics   \n",
       "16394     Lecrae-darkest-hour-lyrics   \n",
       "17398   Nirvana-all-apologies-lyrics   \n",
       "\n",
       "                                                                                                                                                                                                                                                                                                                                                                                                                lyrics  \n",
       "33860  \\n\\n[Verse 1: Jon Bellion]\\nIt's 2AM and cold outside\\nIs it too late to come, oh?\\nI can't even sleep at night 'cause, oh\\nIt's 3AM, I'm parked outside\\nI'm walking to your door, oh\\nAnd that can't wait another night 'cause, oh\\n\\n[Chorus: Jon Bellion]\\nOh, twenty-five, twenty-five seven and\\nI give you all my attention\\nBaby, you're my obsession\\nOh, twenty-five, twenty-five seven and\\nI giv...  \n",
       "5278   \\n\\n[Intro]\\nEar Drummers\\nMike WiLL Made-It\\n\\n[Verse 1]\\nI am sippin' on that lean, don't bring me no bottles, ho\\nI make it rain so hard, flowers grow, Hollygrove\\nFour baby mamas, no baby mama drama\\nBad bitch at home sleep, I go home and sleep behind her, uh\\nShout out to my weed man, shout out to my lean man\\nI'm sittin' on these motherfuckin' millions like a beanbag\\nFuck you, don't jud...  \n",
       "6908   \\n\\n[Produced by DJ Premier]\\n\\n[Hook Samples: Snoop Dogg + Prodigy]\\n\"Dear God – I wonder, can you save me?\"\\n\"Illuminati want my mind, soul and my body\"\\n\"Dear God – I wonder, can you save me?\"\\n\"Secret society, tryna keep they eye on me\"\\n\"Dear God – I wonder, can you save me?\"\\n\"Illuminati want my mind, soul and my body\"\\n\"Dear God – I wonder, can you save me?\"\\n\"I can't die, I can't die, ...  \n",
       "16394  \\n\\n[Intro: No Malice]\\nOk, yes, uh huh, No Malice and Lecrae\\n\\n[Verse 1: No Malice]\\nLord have mercy and pity on your son\\nFrom what I once was, to what I have become\\nForgive me for my past and the noses left numb\\nAs I'm led down this path to the beat of a different drum\\nFee-fi-fo-fum I'm conquering my giants\\nAnd all by my lonesome I'm conquering Goliath\\nI cut it on the buyers, now I tr...  \n",
       "17398  \\n\\n[Verse 1]\\nWhat else should I be? All apologies\\nWhat else could I say? Everyone is gay\\nWhat else should I write? I don't have the right\\nWhat else should I be? All apologies\\n\\n[Chorus]\\nIn the sun, in the sun, I feel as one\\nIn the sun, in the sun\\nMarried, buried\\n\\n[Verse 2]\\nI wish I was like you, easily amused\\nFind my nest of salt, everything is my fault\\nI'll take all the blame, I...  "
      ]
     },
     "execution_count": 137,
     "metadata": {},
     "output_type": "execute_result"
    }
   ],
   "source": [
    "df.sample(5)"
   ]
  },
  {
   "cell_type": "code",
   "execution_count": 121,
   "id": "textile-invite",
   "metadata": {},
   "outputs": [],
   "source": [
    "def lang_detector(x):\n",
    "    '''\n",
    "        takes a string and returns language of string\n",
    "    '''\n",
    "    try:\n",
    "        return detect(x)\n",
    "    except:\n",
    "        return 'unknown language'\n",
    "\n",
    "def cleaner(df):\n",
    "    '''\n",
    "        cleans song column\n",
    "        extract artist from song column\n",
    "        cleans lyrics column\n",
    "        applies lang_detector function \n",
    "        creates new column for song length\n",
    "        removes songs of laguage other than english\n",
    "        removes outliers calculated using song length\n",
    "        creates new column of song_length_quantiles for viz\n",
    "        returns cleand df\n",
    "    '''\n",
    "    df['artist'] = df['song'].apply(lambda x: ' '.join(x.split('-')[:2]))\n",
    "    df['song'] = df['song'].apply(lambda x: x[:-7])    \n",
    "    df['lyrics'] = df['lyrics'].apply(lambda x: re.sub(\"[\\(\\[].*?[\\)\\]]\", \"\", x))\n",
    "    df['lyrics'] = df['lyrics'].apply(lambda x: re.sub('\\n\\n', '', x))\n",
    "    df['lyrics'] = df['lyrics'].apply(lambda x: re.sub('\\n', ' ', x))\n",
    "    df['lang'] = df['lyrics'].apply(lambda x: lang_detector(x))\n",
    "    df = df[df['lang'] == 'en']\n",
    "    df['song_length'] = df['lyrics'].apply(lambda x: len(x))\n",
    "    Q1 = df['song_length'].quantile(0.25)\n",
    "    Q3 = df['song_length'].quantile(0.75)\n",
    "    IQR = Q3 - Q1\n",
    "    df = df[(df['song_length'] > (Q1 - 1.5 * IQR)) & (df['song_length'] < (Q3 + 1.5 * IQR))]\n",
    "    df['song_length_quantiles'] = pd.cut(df['song_length'], bins=10, precision=0)    \n",
    "    return df"
   ]
  },
  {
   "cell_type": "code",
   "execution_count": 122,
   "id": "alternate-bahrain",
   "metadata": {},
   "outputs": [
    {
     "name": "stderr",
     "output_type": "stream",
     "text": [
      "c:\\users\\ankit.dubey\\appdata\\local\\programs\\python\\python37\\lib\\site-packages\\ipykernel_launcher.py:29: SettingWithCopyWarning: \n",
      "A value is trying to be set on a copy of a slice from a DataFrame.\n",
      "Try using .loc[row_indexer,col_indexer] = value instead\n",
      "\n",
      "See the caveats in the documentation: https://pandas.pydata.org/pandas-docs/stable/user_guide/indexing.html#returning-a-view-versus-a-copy\n"
     ]
    }
   ],
   "source": [
    "df = cleaner(df)"
   ]
  },
  {
   "cell_type": "code",
   "execution_count": 123,
   "id": "champion-stevens",
   "metadata": {},
   "outputs": [
    {
     "data": {
      "image/png": "[encoded data removed]",
      "text/plain": [
       "<Figure size 720x504 with 1 Axes>"
      ]
     },
     "metadata": {},
     "output_type": "display_data"
    }
   ],
   "source": [
    "song_len_df = df['song_length_quantiles'].value_counts(sort=True).reset_index().rename(columns={'index': 'quantiles', 'song_length_quantiles':'count'})\n",
    "sns.barplot(x='quantiles', y='count', data=song_len_df,   palette=\"Blues_d\")\n",
    "plt.xticks(rotation=45)\n",
    "plt.show()"
   ]
  },
  {
   "cell_type": "code",
   "execution_count": 124,
   "id": "subtle-armenia",
   "metadata": {},
   "outputs": [],
   "source": [
    "df = df.drop_duplicates(subset='artist', keep='first')\n",
    "df = df.reset_index(level=0)\n",
    "df['id'] = df['index']\n",
    "df = df.drop(['index'], axis=1)"
   ]
  },
  {
   "cell_type": "code",
   "execution_count": 125,
   "id": "amber-proposal",
   "metadata": {},
   "outputs": [],
   "source": [
    "# Calculating cosine similarities from lyrics and storing similar song results in results dict\n",
    "tf = TfidfVectorizer(analyzer='word', min_df=0, max_features= 100 ,stop_words='english', lowercase=True)\n",
    "tfidf_matrix = tf.fit_transform(df['lyrics'])\n",
    "\n",
    "cosine_similarities = linear_kernel(tfidf_matrix, tfidf_matrix)\n",
    "results = {}\n",
    "\n",
    "for idx, row in df.iterrows():\n",
    "    similar_indices = cosine_similarities[idx].argsort()[:-100:-1]\n",
    "    similar_items = [(cosine_similarities[idx][i], df['id'][i]) for i in similar_indices]\n",
    "    results[row['id']] = similar_items[1:]"
   ]
  },
  {
   "cell_type": "code",
   "execution_count": 128,
   "id": "apparent-therapist",
   "metadata": {},
   "outputs": [],
   "source": [
    "def item(id):\n",
    "    return df.loc[df['id'] == id]['song']\n",
    "\n",
    "def recommend(id, num):\n",
    "    print(\"Recommending \" + str(num) + \" songs similar to \" + item(id))\n",
    "    recs = results[id][:num]\n",
    "    i=0\n",
    "    for rec in recs:\n",
    "        print(\"We recommend : \" + item(rec[1]) + \" (score:\" + str(rec[0]) + \")\")"
   ]
  },
  {
   "cell_type": "code",
   "execution_count": 129,
   "id": "middle-liechtenstein",
   "metadata": {},
   "outputs": [
    {
     "name": "stdout",
     "output_type": "stream",
     "text": [
      "2    Recommending 3 songs similar to Travis-scott-goosebumps\n",
      "Name: song, dtype: object\n",
      "6954    We recommend : Tyga-u-cry (score:0.9022309682343544)\n",
      "Name: song, dtype: object\n",
      "1819    We recommend : Goldlink-u-say (score:0.8874335491812315)\n",
      "Name: song, dtype: object\n",
      "1662    We recommend : Logic-time-machine (score:0.8612878563854101)\n",
      "Name: song, dtype: object\n"
     ]
    }
   ],
   "source": [
    "recommend(14,3)"
   ]
  },
  {
   "cell_type": "code",
   "execution_count": null,
   "id": "fantastic-launch",
   "metadata": {},
   "outputs": [],
   "source": []
  },
  {
   "cell_type": "markdown",
   "id": "standing-utility",
   "metadata": {},
   "source": [
    "### EDA below"
   ]
  },
  {
   "cell_type": "code",
   "execution_count": null,
   "id": "democratic-provision",
   "metadata": {},
   "outputs": [],
   "source": [
    "print(f'Dataset has total {df.shape[0]} songs from {df.artist.nunique()}')"
   ]
  },
  {
   "cell_type": "code",
   "execution_count": 66,
   "id": "excited-cemetery",
   "metadata": {},
   "outputs": [
    {
     "data": {
      "text/plain": [
       "2     Yeah 7:30 in the night, yeah Ooh-oooh, ooh I get those goosebumps every time, yeah, you come around, yeah You ease my mind, you make everything feel fine Worried 'bout those comments I'm way too numb, yeah, it's way too dumb, yeah I get those goosebumps every time, I need the Heimlich Throw that to the side, yeah I get those goosebumps every time, yeah When you're not around  When you throw t...\n",
       "Name: lyrics, dtype: object"
      ]
     },
     "execution_count": 66,
     "metadata": {},
     "output_type": "execute_result"
    }
   ],
   "source": [
    "df[df['id']==14]['lyrics']"
   ]
  },
  {
   "cell_type": "code",
   "execution_count": 67,
   "id": "outstanding-sensitivity",
   "metadata": {},
   "outputs": [
    {
     "data": {
      "text/plain": [
       "2187     Talk that talk to me, yeah Talk that talk to me, yeah I be tryna chill, bitches wanna fuck me Every little city I go, \"Fuck me!\" Shawty must’ve heard, got the word, I move that D Had it by her bladder, she like, “Oh, I gotta pee!” Hahaha Ran into a Rothko in my restroom Singer slash actress in my bedroom Gotta have a ticket for a walk through Everything I do is Big  I talk big money, I talk b...\n",
       "Name: lyrics, dtype: object"
      ]
     },
     "execution_count": 67,
     "metadata": {},
     "output_type": "execute_result"
    }
   ],
   "source": [
    "df[df['id']==6954]['lyrics']"
   ]
  },
  {
   "cell_type": "code",
   "execution_count": 12,
   "id": "supported-pollution",
   "metadata": {},
   "outputs": [
    {
     "data": {
      "text/html": [
       "<div>\n",
       "<style scoped>\n",
       "    .dataframe tbody tr th:only-of-type {\n",
       "        vertical-align: middle;\n",
       "    }\n",
       "\n",
       "    .dataframe tbody tr th {\n",
       "        vertical-align: top;\n",
       "    }\n",
       "\n",
       "    .dataframe thead th {\n",
       "        text-align: right;\n",
       "    }\n",
       "</style>\n",
       "<table border=\"1\" class=\"dataframe\">\n",
       "  <thead>\n",
       "    <tr style=\"text-align: right;\">\n",
       "      <th></th>\n",
       "      <th>song</th>\n",
       "      <th>lyrics</th>\n",
       "      <th>lang</th>\n",
       "      <th>song_length</th>\n",
       "    </tr>\n",
       "  </thead>\n",
       "  <tbody>\n",
       "    <tr>\n",
       "      <th>37058</th>\n",
       "      <td>Pink-guy-club-banger-3000</td>\n",
       "      <td>Hey</td>\n",
       "      <td>en</td>\n",
       "      <td>5</td>\n",
       "    </tr>\n",
       "  </tbody>\n",
       "</table>\n",
       "</div>"
      ],
      "text/plain": [
       "                            song lyrics lang  song_length\n",
       "37058  Pink-guy-club-banger-3000   Hey    en            5"
      ]
     },
     "execution_count": 12,
     "metadata": {},
     "output_type": "execute_result"
    }
   ],
   "source": [
    "df[df['song_length'] == df['song_length'].min()]"
   ]
  },
  {
   "cell_type": "code",
   "execution_count": 13,
   "id": "premier-taylor",
   "metadata": {},
   "outputs": [
    {
     "data": {
      "text/html": [
       "<div>\n",
       "<style scoped>\n",
       "    .dataframe tbody tr th:only-of-type {\n",
       "        vertical-align: middle;\n",
       "    }\n",
       "\n",
       "    .dataframe tbody tr th {\n",
       "        vertical-align: top;\n",
       "    }\n",
       "\n",
       "    .dataframe thead th {\n",
       "        text-align: right;\n",
       "    }\n",
       "</style>\n",
       "<table border=\"1\" class=\"dataframe\">\n",
       "  <thead>\n",
       "    <tr style=\"text-align: right;\">\n",
       "      <th></th>\n",
       "      <th>song</th>\n",
       "      <th>lyrics</th>\n",
       "      <th>lang</th>\n",
       "      <th>song_length</th>\n",
       "    </tr>\n",
       "  </thead>\n",
       "  <tbody>\n",
       "    <tr>\n",
       "      <th>29861</th>\n",
       "      <td>Barack-obama-third-presidential-debate-of-2012-an</td>\n",
       "      <td>SCHIEFFER: Good evening from the campus of Lynn University here in Boca Raton, Florida. This is the fourth and last debate of the 2012 campaign, brought to you by the Commission on Presidential Debates. This one's on foreign policy. I'm Bob Schieffer of CBS News. The questions are mine, and I have not shared them with the candidates or their aides. The audience has taken a vow of silence - no ...</td>\n",
       "      <td>en</td>\n",
       "      <td>94758</td>\n",
       "    </tr>\n",
       "  </tbody>\n",
       "</table>\n",
       "</div>"
      ],
      "text/plain": [
       "                                                    song  \\\n",
       "29861  Barack-obama-third-presidential-debate-of-2012-an   \n",
       "\n",
       "                                                                                                                                                                                                                                                                                                                                                                                                                lyrics  \\\n",
       "29861  SCHIEFFER: Good evening from the campus of Lynn University here in Boca Raton, Florida. This is the fourth and last debate of the 2012 campaign, brought to you by the Commission on Presidential Debates. This one's on foreign policy. I'm Bob Schieffer of CBS News. The questions are mine, and I have not shared them with the candidates or their aides. The audience has taken a vow of silence - no ...   \n",
       "\n",
       "      lang  song_length  \n",
       "29861   en        94758  "
      ]
     },
     "execution_count": 13,
     "metadata": {},
     "output_type": "execute_result"
    }
   ],
   "source": [
    "df[df['song_length'] == df['song_length'].max()]"
   ]
  },
  {
   "cell_type": "code",
   "execution_count": null,
   "id": "academic-spirituality",
   "metadata": {},
   "outputs": [],
   "source": []
  }
 ],
 "metadata": {
  "kernelspec": {
   "display_name": "Python 3",
   "language": "python",
   "name": "python3"
  },
  "language_info": {
   "codemirror_mode": {
    "name": "ipython",
    "version": 3
   },
   "file_extension": ".py",
   "mimetype": "text/x-python",
   "name": "python",
   "nbconvert_exporter": "python",
   "pygments_lexer": "ipython3",
   "version": "3.7.2"
  }
 },
 "nbformat": 4,
 "nbformat_minor": 5
}
