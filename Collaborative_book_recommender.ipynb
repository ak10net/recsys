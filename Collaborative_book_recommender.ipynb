{
 "cells": [
  {
   "cell_type": "markdown",
   "id": "useful-payday",
   "metadata": {},
   "source": [
    "# Book Recommender"
   ]
  },
  {
   "cell_type": "code",
   "execution_count": 114,
   "id": "elegant-insulation",
   "metadata": {},
   "outputs": [],
   "source": [
    "import pandas as pd\n",
    "import scipy.sparse as sparse\n",
    "import numpy as np\n",
    "from scipy.sparse.linalg import spsolve\n",
    "import matplotlib.pyplot as plt\n",
    "%matplotlib inline\n",
    "from pandas.api.types import CategoricalDtype\n",
    "import random\n",
    "import implicit\n",
    "from sklearn import metrics\n",
    "from sklearn.preprocessing import MinMaxScaler\n",
    "from sklearn.neighbors import NearestNeighbors\n",
    "from scipy.sparse import csr_matrix\n",
    "from sklearn.decomposition import TruncatedSVD\n",
    "import warnings\n",
    "warnings.filterwarnings(\"ignore\",category =RuntimeWarning)\n",
    "from pprint import pprint"
   ]
  },
  {
   "cell_type": "code",
   "execution_count": 110,
   "id": "mexican-teens",
   "metadata": {},
   "outputs": [
    {
     "name": "stderr",
     "output_type": "stream",
     "text": [
      "b'Skipping line 6452: expected 8 fields, saw 9\\nSkipping line 43667: expected 8 fields, saw 10\\nSkipping line 51751: expected 8 fields, saw 9\\n'\n",
      "b'Skipping line 92038: expected 8 fields, saw 9\\nSkipping line 104319: expected 8 fields, saw 9\\nSkipping line 121768: expected 8 fields, saw 9\\n'\n",
      "b'Skipping line 144058: expected 8 fields, saw 9\\nSkipping line 150789: expected 8 fields, saw 9\\nSkipping line 157128: expected 8 fields, saw 9\\nSkipping line 180189: expected 8 fields, saw 9\\nSkipping line 185738: expected 8 fields, saw 9\\n'\n",
      "b'Skipping line 209388: expected 8 fields, saw 9\\nSkipping line 220626: expected 8 fields, saw 9\\nSkipping line 227933: expected 8 fields, saw 11\\nSkipping line 228957: expected 8 fields, saw 10\\nSkipping line 245933: expected 8 fields, saw 9\\nSkipping line 251296: expected 8 fields, saw 9\\nSkipping line 259941: expected 8 fields, saw 9\\nSkipping line 261529: expected 8 fields, saw 9\\n'\n",
      "c:\\users\\ankit.dubey\\appdata\\local\\programs\\python\\python37\\lib\\site-packages\\IPython\\core\\interactiveshell.py:3020: DtypeWarning: Columns (3) have mixed types.Specify dtype option on import or set low_memory=False.\n",
      "  interactivity=interactivity, compiler=compiler, result=result)\n"
     ]
    }
   ],
   "source": [
    "# Data import\n",
    "books = pd.read_csv('book_reco/BX-Books.csv', sep=';', error_bad_lines=False, encoding=\"latin-1\")\n",
    "books.columns = ['ISBN', 'bookTitle', 'bookAuthor', 'yearOfPublication', 'publisher', 'imageUrlS', 'imageUrlM', 'imageUrlL']\n",
    "books = books.drop(['yearOfPublication', 'publisher', 'bookAuthor', 'imageUrlS', 'imageUrlM', 'imageUrlL'], axis=1)\n",
    "users = pd.read_csv('book_reco/BX-Users.csv', sep=';', error_bad_lines=False, encoding=\"latin-1\")\n",
    "users.columns = ['userID', 'Location', 'Age']\n",
    "ratings = pd.read_csv('book_reco/BX-Book-Ratings.csv', sep=';', error_bad_lines=False, encoding=\"latin-1\")\n",
    "ratings.columns = ['userID', 'ISBN', 'bookRating']"
   ]
  },
  {
   "cell_type": "code",
   "execution_count": 115,
   "id": "private-explanation",
   "metadata": {},
   "outputs": [
    {
     "name": "stdout",
     "output_type": "stream",
     "text": [
      "   userID                   Location   Age\n",
      "0       1         nyc, new york, usa   NaN\n",
      "1       2  stockton, california, usa  18.0\n"
     ]
    }
   ],
   "source": [
    "pprint(users.head(2))"
   ]
  },
  {
   "cell_type": "code",
   "execution_count": 116,
   "id": "introductory-channel",
   "metadata": {},
   "outputs": [
    {
     "name": "stdout",
     "output_type": "stream",
     "text": [
      "         ISBN            bookTitle\n",
      "0  0195153448  Classical Mythology\n",
      "1  0002005018         Clara Callan\n"
     ]
    }
   ],
   "source": [
    "pprint(books.head(2))"
   ]
  },
  {
   "cell_type": "code",
   "execution_count": 117,
   "id": "naked-birthday",
   "metadata": {},
   "outputs": [
    {
     "name": "stdout",
     "output_type": "stream",
     "text": [
      "   userID        ISBN  bookRating\n",
      "0  276725  034545104X           0\n",
      "1  276726  0155061224           5\n"
     ]
    }
   ],
   "source": [
    "pprint(ratings.head(2))"
   ]
  },
  {
   "cell_type": "code",
   "execution_count": 118,
   "id": "varying-resource",
   "metadata": {},
   "outputs": [
    {
     "name": "stdout",
     "output_type": "stream",
     "text": [
      "'Number of Users 278858'\n",
      "\"Columns in User dataframe ['userID', 'Location', 'Age']\"\n",
      "'Number of Books 271360'\n",
      "\"Columns in Books dataframe ['ISBN', 'bookTitle']\"\n",
      "'Number of Ratings 1149780'\n",
      "\"Columns in Ratings dataframe ['userID', 'ISBN', 'bookRating']\"\n"
     ]
    }
   ],
   "source": [
    "pprint(f'Number of Users {users.shape[0]}')\n",
    "pprint(f'Columns in User dataframe {list(users.columns)}')\n",
    "pprint(f'Number of Books {books.shape[0]}')\n",
    "pprint(f'Columns in Books dataframe {list(books.columns)}')\n",
    "pprint(f'Number of Ratings {ratings.shape[0]}')\n",
    "pprint(f'Columns in Ratings dataframe {list(ratings.columns)}')"
   ]
  },
  {
   "cell_type": "markdown",
   "id": "coupled-aluminum",
   "metadata": {},
   "source": [
    "## Data munging for utility matrix"
   ]
  },
  {
   "cell_type": "code",
   "execution_count": 135,
   "id": "fabulous-simulation",
   "metadata": {},
   "outputs": [
    {
     "name": "stdout",
     "output_type": "stream",
     "text": [
      "   userID  bookRating             bookTitle\n",
      "0  276725           0  Flesh Tones: A Novel\n",
      "1    2313           5  Flesh Tones: A Novel\n"
     ]
    }
   ],
   "source": [
    "# ratings by user for a particular book\n",
    "books_with_ratings = pd.merge(ratings, books, on='ISBN')\n",
    "books_with_ratings = books_with_ratings.dropna(axis=0, subset=['bookTitle'])\n",
    "books_with_ratings = books_with_ratings.drop('ISBN', axis=1)\n",
    "pprint(books_with_ratings.head(2))"
   ]
  },
  {
   "cell_type": "code",
   "execution_count": 136,
   "id": "western-silver",
   "metadata": {},
   "outputs": [
    {
     "name": "stdout",
     "output_type": "stream",
     "text": [
      "                                           bookTitle  totalRatingCount\n",
      "0   A Light in the Storm: The Civil War Diary of ...                 4\n",
      "1                              Always Have Popsicles                 1\n"
     ]
    }
   ],
   "source": [
    "# How many times a book got rated\n",
    "count_of_book_rating = (books_with_ratings.groupby('bookTitle')['bookRating'].count().reset_index().rename(columns={'bookRating': 'totalRatingCount'})[['bookTitle', 'totalRatingCount']])\n",
    "pprint(count_of_book_rating.head(2))"
   ]
  },
  {
   "cell_type": "code",
   "execution_count": 137,
   "id": "alleged-partnership",
   "metadata": {},
   "outputs": [
    {
     "name": "stdout",
     "output_type": "stream",
     "text": [
      "   userID  bookRating             bookTitle  totalRatingCount\n",
      "0  276725           0  Flesh Tones: A Novel                60\n",
      "1    2313           5  Flesh Tones: A Novel                60\n"
     ]
    }
   ],
   "source": [
    "# User ratings with books and their total rating counts\n",
    "combined_with_ratingcount = books_with_ratings.merge(count_of_book_rating,\n",
    "                                    left_on='bookTitle',\n",
    "                                    right_on='bookTitle', \n",
    "                                    how='left')\n",
    "pprint(combined_with_ratingcount.head(2))"
   ]
  },
  {
   "cell_type": "code",
   "execution_count": 138,
   "id": "ranging-biology",
   "metadata": {},
   "outputs": [
    {
     "name": "stdout",
     "output_type": "stream",
     "text": [
      "   userID  bookRating             bookTitle  totalRatingCount\n",
      "0  276725           0  Flesh Tones: A Novel                60\n",
      "1    2313           5  Flesh Tones: A Novel                60\n"
     ]
    }
   ],
   "source": [
    "# Excluding books that have rating count less than 50 only keeping popular ones\n",
    "rating_threshold = 50\n",
    "popular_books = combined_with_ratingcount.query('totalRatingCount >= @rating_threshold')\n",
    "pprint(popular_books.head(2))"
   ]
  },
  {
   "cell_type": "code",
   "execution_count": 140,
   "id": "incorporated-carrier",
   "metadata": {},
   "outputs": [
    {
     "name": "stdout",
     "output_type": "stream",
     "text": [
      "   userID  bookRating             bookTitle               Location\n",
      "0  276725           0  Flesh Tones: A Novel      tyler, texas, usa\n",
      "1    2313           5  Flesh Tones: A Novel  cincinnati, ohio, usa\n"
     ]
    }
   ],
   "source": [
    "# For location specific recommendation going to merge popular books df with users df\n",
    "combined = popular_books.merge(users,\n",
    "                                  left_on='userID',\n",
    "                                  right_on='userID',\n",
    "                                  how='left')\n",
    "combined = combined.drop('totalRatingCount', axis=1)\n",
    "usa_user_rating = combined[combined['Location'].str.contains('usa')]\n",
    "usa_user_rating = usa_user_rating.drop('Age', axis=1)\n",
    "pprint(usa_user_rating.head(2))"
   ]
  },
  {
   "cell_type": "markdown",
   "id": "indoor-momentum",
   "metadata": {},
   "source": [
    "## KNN based recommender"
   ]
  },
  {
   "cell_type": "code",
   "execution_count": 142,
   "id": "taken-terminology",
   "metadata": {},
   "outputs": [
    {
     "data": {
      "text/plain": [
       "NearestNeighbors(algorithm='brute', metric='cosine')"
      ]
     },
     "execution_count": 142,
     "metadata": {},
     "output_type": "execute_result"
    }
   ],
   "source": [
    "# Keeping only unique user and book rating combination\n",
    "usa_user_rating = usa_user_rating.drop_duplicates(['userID', 'bookTitle'])\n",
    "\n",
    "# Create pivot of user books and users and fill na with zero\n",
    "usa_user_rating_pivot = usa_user_rating.pivot(index = 'bookTitle', columns = 'userID', values = 'bookRating').fillna(0)\n",
    "\n",
    "# Conerting pivot table to CSR matrix\n",
    "usa_user_rating_matrix = csr_matrix(usa_user_rating_pivot.values)\n",
    "\n",
    "# Fitting the KNN algorithm\n",
    "knn = NearestNeighbors(metric = 'cosine', algorithm = 'brute')\n",
    "knn.fit(usa_user_rating_matrix)"
   ]
  },
  {
   "cell_type": "code",
   "execution_count": 144,
   "id": "intended-negative",
   "metadata": {},
   "outputs": [
    {
     "name": "stdout",
     "output_type": "stream",
     "text": [
      "Recommendations for The Hangman's Beautiful Daughter:\n",
      "\n",
      "1: She Walks These Hills, with distance of 0.8538214350321209:\n",
      "2: The Triumph of Katie Byrne, with distance of 0.8686691101456137:\n",
      "3: If I'd Killed Him When I Met Him (Elizabeth MacPherson Novels (Paperback)), with distance of 0.8792071484855862:\n",
      "4: To Say Nothing of the Dog, with distance of 0.8885182412493589:\n",
      "5: Killer Pancake, with distance of 0.8958602455579392:\n"
     ]
    }
   ],
   "source": [
    "# Choose a random number from book list\n",
    "query_index = np.random.choice(usa_user_rating_pivot.shape[0])\n",
    "\n",
    "# Extract index and distances of nearest neighbors of query index\n",
    "distances, indices = knn.kneighbors(usa_user_rating_pivot.iloc[query_index, :].values.reshape(1, -1), n_neighbors = 6)\n",
    "\n",
    "# Serve recommendation\n",
    "for i in range(0, len(distances.flatten())):\n",
    "    if i == 0:\n",
    "        print('Recommendations for {0}:\\n'.format(usa_user_rating_pivot.index[query_index]))\n",
    "    else:\n",
    "        print('{0}: {1}, with distance of {2}:'.format(i, usa_user_rating_pivot.index[indices.flatten()[i]], distances.flatten()[i]))"
   ]
  },
  {
   "cell_type": "markdown",
   "id": "magnetic-roberts",
   "metadata": {},
   "source": [
    "## Matrix factorization recommender"
   ]
  },
  {
   "cell_type": "code",
   "execution_count": 146,
   "id": "charged-tooth",
   "metadata": {},
   "outputs": [
    {
     "data": {
      "text/html": [
       "<div>\n",
       "<style scoped>\n",
       "    .dataframe tbody tr th:only-of-type {\n",
       "        vertical-align: middle;\n",
       "    }\n",
       "\n",
       "    .dataframe tbody tr th {\n",
       "        vertical-align: top;\n",
       "    }\n",
       "\n",
       "    .dataframe thead th {\n",
       "        text-align: right;\n",
       "    }\n",
       "</style>\n",
       "<table border=\"1\" class=\"dataframe\">\n",
       "  <thead>\n",
       "    <tr style=\"text-align: right;\">\n",
       "      <th>bookTitle</th>\n",
       "      <th>10 Lb. Penalty</th>\n",
       "      <th>16 Lighthouse Road</th>\n",
       "      <th>1984</th>\n",
       "      <th>1st to Die: A Novel</th>\n",
       "      <th>2010: Odyssey Two</th>\n",
       "      <th>204 Rosewood Lane</th>\n",
       "      <th>2061: Odyssey Three</th>\n",
       "      <th>24 Hours</th>\n",
       "      <th>2nd Chance</th>\n",
       "      <th>3rd Degree</th>\n",
       "      <th>...</th>\n",
       "      <th>YOU BELONG TO ME</th>\n",
       "      <th>Year of Wonders</th>\n",
       "      <th>You Belong To Me</th>\n",
       "      <th>You Shall Know Our Velocity</th>\n",
       "      <th>Young Wives</th>\n",
       "      <th>Zen and the Art of Motorcycle Maintenance: An Inquiry into Values</th>\n",
       "      <th>Zoya</th>\n",
       "      <th>\\O\\\" Is for Outlaw\"</th>\n",
       "      <th>\\Surely You're Joking, Mr. Feynman!\\\": Adventures of a Curious Character\"</th>\n",
       "      <th>stardust</th>\n",
       "    </tr>\n",
       "    <tr>\n",
       "      <th>userID</th>\n",
       "      <th></th>\n",
       "      <th></th>\n",
       "      <th></th>\n",
       "      <th></th>\n",
       "      <th></th>\n",
       "      <th></th>\n",
       "      <th></th>\n",
       "      <th></th>\n",
       "      <th></th>\n",
       "      <th></th>\n",
       "      <th></th>\n",
       "      <th></th>\n",
       "      <th></th>\n",
       "      <th></th>\n",
       "      <th></th>\n",
       "      <th></th>\n",
       "      <th></th>\n",
       "      <th></th>\n",
       "      <th></th>\n",
       "      <th></th>\n",
       "      <th></th>\n",
       "    </tr>\n",
       "  </thead>\n",
       "  <tbody>\n",
       "    <tr>\n",
       "      <th>9</th>\n",
       "      <td>0.0</td>\n",
       "      <td>0.0</td>\n",
       "      <td>0.0</td>\n",
       "      <td>0.0</td>\n",
       "      <td>0.0</td>\n",
       "      <td>0.0</td>\n",
       "      <td>0.0</td>\n",
       "      <td>0.0</td>\n",
       "      <td>0.0</td>\n",
       "      <td>0.0</td>\n",
       "      <td>...</td>\n",
       "      <td>0.0</td>\n",
       "      <td>0.0</td>\n",
       "      <td>0.0</td>\n",
       "      <td>0.0</td>\n",
       "      <td>0.0</td>\n",
       "      <td>0.0</td>\n",
       "      <td>0.0</td>\n",
       "      <td>0.0</td>\n",
       "      <td>0.0</td>\n",
       "      <td>0.0</td>\n",
       "    </tr>\n",
       "    <tr>\n",
       "      <th>14</th>\n",
       "      <td>0.0</td>\n",
       "      <td>0.0</td>\n",
       "      <td>0.0</td>\n",
       "      <td>0.0</td>\n",
       "      <td>0.0</td>\n",
       "      <td>0.0</td>\n",
       "      <td>0.0</td>\n",
       "      <td>0.0</td>\n",
       "      <td>0.0</td>\n",
       "      <td>0.0</td>\n",
       "      <td>...</td>\n",
       "      <td>0.0</td>\n",
       "      <td>0.0</td>\n",
       "      <td>0.0</td>\n",
       "      <td>0.0</td>\n",
       "      <td>0.0</td>\n",
       "      <td>0.0</td>\n",
       "      <td>0.0</td>\n",
       "      <td>0.0</td>\n",
       "      <td>0.0</td>\n",
       "      <td>0.0</td>\n",
       "    </tr>\n",
       "    <tr>\n",
       "      <th>16</th>\n",
       "      <td>0.0</td>\n",
       "      <td>0.0</td>\n",
       "      <td>0.0</td>\n",
       "      <td>0.0</td>\n",
       "      <td>0.0</td>\n",
       "      <td>0.0</td>\n",
       "      <td>0.0</td>\n",
       "      <td>0.0</td>\n",
       "      <td>0.0</td>\n",
       "      <td>0.0</td>\n",
       "      <td>...</td>\n",
       "      <td>0.0</td>\n",
       "      <td>0.0</td>\n",
       "      <td>0.0</td>\n",
       "      <td>0.0</td>\n",
       "      <td>0.0</td>\n",
       "      <td>0.0</td>\n",
       "      <td>0.0</td>\n",
       "      <td>0.0</td>\n",
       "      <td>0.0</td>\n",
       "      <td>0.0</td>\n",
       "    </tr>\n",
       "    <tr>\n",
       "      <th>17</th>\n",
       "      <td>0.0</td>\n",
       "      <td>0.0</td>\n",
       "      <td>0.0</td>\n",
       "      <td>0.0</td>\n",
       "      <td>0.0</td>\n",
       "      <td>0.0</td>\n",
       "      <td>0.0</td>\n",
       "      <td>0.0</td>\n",
       "      <td>0.0</td>\n",
       "      <td>0.0</td>\n",
       "      <td>...</td>\n",
       "      <td>0.0</td>\n",
       "      <td>0.0</td>\n",
       "      <td>0.0</td>\n",
       "      <td>0.0</td>\n",
       "      <td>0.0</td>\n",
       "      <td>0.0</td>\n",
       "      <td>0.0</td>\n",
       "      <td>0.0</td>\n",
       "      <td>0.0</td>\n",
       "      <td>0.0</td>\n",
       "    </tr>\n",
       "    <tr>\n",
       "      <th>23</th>\n",
       "      <td>0.0</td>\n",
       "      <td>0.0</td>\n",
       "      <td>0.0</td>\n",
       "      <td>0.0</td>\n",
       "      <td>0.0</td>\n",
       "      <td>0.0</td>\n",
       "      <td>0.0</td>\n",
       "      <td>0.0</td>\n",
       "      <td>0.0</td>\n",
       "      <td>0.0</td>\n",
       "      <td>...</td>\n",
       "      <td>0.0</td>\n",
       "      <td>0.0</td>\n",
       "      <td>0.0</td>\n",
       "      <td>0.0</td>\n",
       "      <td>0.0</td>\n",
       "      <td>0.0</td>\n",
       "      <td>0.0</td>\n",
       "      <td>0.0</td>\n",
       "      <td>0.0</td>\n",
       "      <td>0.0</td>\n",
       "    </tr>\n",
       "  </tbody>\n",
       "</table>\n",
       "<p>5 rows × 2441 columns</p>\n",
       "</div>"
      ],
      "text/plain": [
       "bookTitle  10 Lb. Penalty  16 Lighthouse Road  1984  1st to Die: A Novel  \\\n",
       "userID                                                                     \n",
       "9                     0.0                 0.0   0.0                  0.0   \n",
       "14                    0.0                 0.0   0.0                  0.0   \n",
       "16                    0.0                 0.0   0.0                  0.0   \n",
       "17                    0.0                 0.0   0.0                  0.0   \n",
       "23                    0.0                 0.0   0.0                  0.0   \n",
       "\n",
       "bookTitle  2010: Odyssey Two  204 Rosewood Lane  2061: Odyssey Three  \\\n",
       "userID                                                                 \n",
       "9                        0.0                0.0                  0.0   \n",
       "14                       0.0                0.0                  0.0   \n",
       "16                       0.0                0.0                  0.0   \n",
       "17                       0.0                0.0                  0.0   \n",
       "23                       0.0                0.0                  0.0   \n",
       "\n",
       "bookTitle  24 Hours  2nd Chance  3rd Degree  ...  YOU BELONG TO ME  \\\n",
       "userID                                       ...                     \n",
       "9               0.0         0.0         0.0  ...               0.0   \n",
       "14              0.0         0.0         0.0  ...               0.0   \n",
       "16              0.0         0.0         0.0  ...               0.0   \n",
       "17              0.0         0.0         0.0  ...               0.0   \n",
       "23              0.0         0.0         0.0  ...               0.0   \n",
       "\n",
       "bookTitle  Year of Wonders  You Belong To Me  You Shall Know Our Velocity  \\\n",
       "userID                                                                      \n",
       "9                      0.0               0.0                          0.0   \n",
       "14                     0.0               0.0                          0.0   \n",
       "16                     0.0               0.0                          0.0   \n",
       "17                     0.0               0.0                          0.0   \n",
       "23                     0.0               0.0                          0.0   \n",
       "\n",
       "bookTitle  Young Wives  \\\n",
       "userID                   \n",
       "9                  0.0   \n",
       "14                 0.0   \n",
       "16                 0.0   \n",
       "17                 0.0   \n",
       "23                 0.0   \n",
       "\n",
       "bookTitle  Zen and the Art of Motorcycle Maintenance: An Inquiry into Values  \\\n",
       "userID                                                                         \n",
       "9                                                        0.0                   \n",
       "14                                                       0.0                   \n",
       "16                                                       0.0                   \n",
       "17                                                       0.0                   \n",
       "23                                                       0.0                   \n",
       "\n",
       "bookTitle  Zoya  \\O\\\" Is for Outlaw\"  \\\n",
       "userID                                 \n",
       "9           0.0                  0.0   \n",
       "14          0.0                  0.0   \n",
       "16          0.0                  0.0   \n",
       "17          0.0                  0.0   \n",
       "23          0.0                  0.0   \n",
       "\n",
       "bookTitle  \\Surely You're Joking, Mr. Feynman!\\\": Adventures of a Curious Character\"  \\\n",
       "userID                                                                                 \n",
       "9                                                        0.0                           \n",
       "14                                                       0.0                           \n",
       "16                                                       0.0                           \n",
       "17                                                       0.0                           \n",
       "23                                                       0.0                           \n",
       "\n",
       "bookTitle  stardust  \n",
       "userID               \n",
       "9               0.0  \n",
       "14              0.0  \n",
       "16              0.0  \n",
       "17              0.0  \n",
       "23              0.0  \n",
       "\n",
       "[5 rows x 2441 columns]"
      ]
     },
     "execution_count": 146,
     "metadata": {},
     "output_type": "execute_result"
    }
   ],
   "source": [
    "# User book rating matrix\n",
    "usa_user_rating_pivot_2d = usa_user_rating.pivot(index='userID', columns='bookTitle', values='bookRating').fillna(0)\n",
    "usa_user_rating_pivot_2d.head()"
   ]
  },
  {
   "cell_type": "code",
   "execution_count": 149,
   "id": "requested-participant",
   "metadata": {},
   "outputs": [
    {
     "name": "stdout",
     "output_type": "stream",
     "text": [
      "Our utility matrix has 35074 users and 2441 books\n"
     ]
    }
   ],
   "source": [
    "print(f'Our utility matrix has {usa_user_rating_pivot_2d.shape[0]} users and {usa_user_rating_pivot_2d.shape[1]} books')"
   ]
  },
  {
   "cell_type": "code",
   "execution_count": 150,
   "id": "committed-employee",
   "metadata": {},
   "outputs": [
    {
     "name": "stdout",
     "output_type": "stream",
     "text": [
      " New matrix shape (2441, 12)\n"
     ]
    }
   ],
   "source": [
    "# We will decompose our utility matrix to 12 latent variables\n",
    "X = usa_user_rating_pivot_2d.values.T\n",
    "SVD = TruncatedSVD(n_components=12, random_state=17)\n",
    "matrix = SVD.fit_transform(X)\n",
    "print(f' New matrix shape {matrix.shape}')"
   ]
  },
  {
   "cell_type": "code",
   "execution_count": 155,
   "id": "accepted-carolina",
   "metadata": {},
   "outputs": [
    {
     "name": "stdout",
     "output_type": "stream",
     "text": [
      "Shape of correlation matrix (2441, 2441)\n"
     ]
    }
   ],
   "source": [
    "# Calculate pearson correlation of all the books\n",
    "corr = np.corrcoef(matrix)\n",
    "print(f'Shape of correlation matrix {corr.shape}')"
   ]
  },
  {
   "cell_type": "code",
   "execution_count": 151,
   "id": "invalid-macro",
   "metadata": {},
   "outputs": [
    {
     "name": "stdout",
     "output_type": "stream",
     "text": [
      "Index of Fight club is 654\n"
     ]
    }
   ],
   "source": [
    "# Getting the booklist\n",
    "book_titles = usa_user_rating_pivot_2d.columns\n",
    "book_list = list(book_titles)\n",
    "fight_club = book_list.index('Fight Club')\n",
    "print(f'Index of Fight club is {fight_club}')"
   ]
  },
  {
   "cell_type": "code",
   "execution_count": 156,
   "id": "owned-chassis",
   "metadata": {},
   "outputs": [
    {
     "data": {
      "text/plain": [
       "['Bearing an Hourglass (Incarnations of Immortality (Paperback))',\n",
       " 'Crystal Line',\n",
       " 'Dune Messiah (Dune Chronicles, Book 2)',\n",
       " \"Enchanters' End Game (The Belgariad, Book 5)\",\n",
       " 'Fight Club',\n",
       " 'Invisible Monsters',\n",
       " 'Survivor : A Novel',\n",
       " 'Sword of Shannara',\n",
       " 'The Color of Magic',\n",
       " 'The Left Hand of Darkness (Remembering Tomorrow)']"
      ]
     },
     "execution_count": 156,
     "metadata": {},
     "output_type": "execute_result"
    }
   ],
   "source": [
    "# Let's find out movies with high correlation with Fight club\n",
    "fight_club_corr = corr[fight_club]\n",
    "list(book_titles[(fight_club_corr > 0.9)])"
   ]
  },
  {
   "cell_type": "code",
   "execution_count": null,
   "id": "executed-entrance",
   "metadata": {},
   "outputs": [],
   "source": []
  }
 ],
 "metadata": {
  "kernelspec": {
   "display_name": "Python 3",
   "language": "python",
   "name": "python3"
  },
  "language_info": {
   "codemirror_mode": {
    "name": "ipython",
    "version": 3
   },
   "file_extension": ".py",
   "mimetype": "text/x-python",
   "name": "python",
   "nbconvert_exporter": "python",
   "pygments_lexer": "ipython3",
   "version": "3.7.2"
  }
 },
 "nbformat": 4,
 "nbformat_minor": 5
}
