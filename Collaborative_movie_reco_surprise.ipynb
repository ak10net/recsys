{
 "cells": [
  {
   "cell_type": "code",
   "execution_count": 18,
   "id": "blessed-audience",
   "metadata": {},
   "outputs": [],
   "source": [
    "import pandas as pd\n",
    "from surprise import Dataset\n",
    "from surprise import Reader\n",
    "from surprise import KNNWithMeans\n",
    "from surprise import SVD\n",
    "from surprise.model_selection import GridSearchCV\n",
    "from surprise.model_selection import train_test_split\n",
    "from surprise import accuracy"
   ]
  },
  {
   "cell_type": "markdown",
   "id": "commercial-cleaning",
   "metadata": {},
   "source": [
    "### Surprise comes loaded with Movielens data set"
   ]
  },
  {
   "cell_type": "code",
   "execution_count": 30,
   "id": "ongoing-banks",
   "metadata": {},
   "outputs": [],
   "source": [
    "movielens = Dataset.load_builtin('ml-100k')\n",
    "trainset, testset = train_test_split(movielens, test_size=0.25)"
   ]
  },
  {
   "cell_type": "markdown",
   "id": "earned-leone",
   "metadata": {},
   "source": [
    "## Memory based KNN approach"
   ]
  },
  {
   "cell_type": "code",
   "execution_count": 31,
   "id": "amateur-davis",
   "metadata": {},
   "outputs": [
    {
     "name": "stdout",
     "output_type": "stream",
     "text": [
      "Computing the cosine similarity matrix...\n",
      "Done computing similarity matrix.\n",
      "RMSE: 0.9559\n",
      "Accuracy of KNN approach 0.9559333024898639\n"
     ]
    }
   ],
   "source": [
    "sim_options = {\n",
    "    'name': 'cosine',\n",
    "    'user_based': True,\n",
    "}\n",
    "\n",
    "knn = KNNWithMeans(sim_options=sim_options)\n",
    "knn.fit(trainset)\n",
    "predictions = knn.test(testset)\n",
    "print(f'Accuracy of KNN approach {accuracy.rmse(predictions)}')"
   ]
  },
  {
   "cell_type": "code",
   "execution_count": 36,
   "id": "jewish-threshold",
   "metadata": {},
   "outputs": [
    {
     "name": "stdout",
     "output_type": "stream",
     "text": [
      "Rating of User 196 for item 302 is 4.454878722917435\n"
     ]
    }
   ],
   "source": [
    "# Prediction on single user and item\n",
    "uid = str(196)  \n",
    "iid = str(302)  \n",
    "pred = knn.predict(uid, iid, r_ui=4, verbose=False)\n",
    "print(f'Rating of User {uid} for item {iid} is {pred.est}')"
   ]
  },
  {
   "cell_type": "markdown",
   "id": "outstanding-scottish",
   "metadata": {},
   "source": [
    "## Mode based approach - SVD"
   ]
  },
  {
   "cell_type": "code",
   "execution_count": 37,
   "id": "frank-medicine",
   "metadata": {},
   "outputs": [
    {
     "name": "stdout",
     "output_type": "stream",
     "text": [
      "RMSE: 0.9390\n",
      "Accuracy of SVD approach 0.938988201323034\n"
     ]
    }
   ],
   "source": [
    "svd = SVD()\n",
    "predictions = svd.fit(trainset).test(testset)\n",
    "print(f'Accuracy of SVD approach {accuracy.rmse(predictions)}')"
   ]
  },
  {
   "cell_type": "code",
   "execution_count": 38,
   "id": "transsexual-think",
   "metadata": {},
   "outputs": [
    {
     "name": "stdout",
     "output_type": "stream",
     "text": [
      "Rating of User 196 for item 302 is 4.223163301790177\n"
     ]
    }
   ],
   "source": [
    "uid = str(196)  \n",
    "iid = str(302)\n",
    "pred = svd.predict(uid, iid, r_ui=4, verbose=False)\n",
    "print(f'Rating of User {uid} for item {iid} is {pred.est}')"
   ]
  },
  {
   "cell_type": "markdown",
   "id": "civilian-jackson",
   "metadata": {},
   "source": [
    "## Grid Search"
   ]
  },
  {
   "cell_type": "code",
   "execution_count": 45,
   "id": "assigned-vertical",
   "metadata": {},
   "outputs": [
    {
     "name": "stdout",
     "output_type": "stream",
     "text": [
      "Computing the msd similarity matrix...\n",
      "Done computing similarity matrix.\n",
      "Computing the msd similarity matrix...\n",
      "Done computing similarity matrix.\n",
      "Computing the msd similarity matrix...\n",
      "Done computing similarity matrix.\n",
      "Computing the msd similarity matrix...\n",
      "Done computing similarity matrix.\n",
      "Computing the msd similarity matrix...\n",
      "Done computing similarity matrix.\n",
      "Computing the msd similarity matrix...\n",
      "Done computing similarity matrix.\n",
      "Computing the cosine similarity matrix...\n",
      "Done computing similarity matrix.\n",
      "Computing the cosine similarity matrix...\n",
      "Done computing similarity matrix.\n",
      "Computing the cosine similarity matrix...\n",
      "Done computing similarity matrix.\n",
      "Computing the cosine similarity matrix...\n",
      "Done computing similarity matrix.\n",
      "Computing the cosine similarity matrix...\n",
      "Done computing similarity matrix.\n",
      "Computing the cosine similarity matrix...\n",
      "Done computing similarity matrix.\n",
      "Computing the msd similarity matrix...\n",
      "Done computing similarity matrix.\n",
      "Best score for KNN model is 0.9415718883931646\n",
      "Best parameters for KNN model are {'sim_options': {'name': 'msd', 'user_based': False}}\n"
     ]
    }
   ],
   "source": [
    "sim_options = {\n",
    "    \"name\": [\"msd\", \"cosine\"],\n",
    "    \"user_based\": [False, True],\n",
    "}\n",
    "param_grid = {'sim_options': sim_options}\n",
    "\n",
    "gs = GridSearchCV(KNNWithMeans, param_grid, measures=[\"rmse\", \"mae\"], cv=3, refit=True)\n",
    "\n",
    "gs.fit(movielens)\n",
    "\n",
    "print(f'Best score for KNN model is {gs.best_score[\"rmse\"]}')\n",
    "print(f'Best parameters for KNN model are {gs.best_params[\"rmse\"]}')"
   ]
  },
  {
   "cell_type": "code",
   "execution_count": 47,
   "id": "favorite-routine",
   "metadata": {},
   "outputs": [
    {
     "name": "stdout",
     "output_type": "stream",
     "text": [
      "Rating of User 196 for item 302 is 4.126951272890875\n"
     ]
    }
   ],
   "source": [
    "print(f'Rating of User {uid} for item {iid} is {gs.predict(uid, iid).est}')"
   ]
  },
  {
   "cell_type": "markdown",
   "id": "fatal-ratio",
   "metadata": {},
   "source": [
    "### Gridsearch model suggest that we use msd similarity metric and should be item based rather than user based"
   ]
  },
  {
   "cell_type": "code",
   "execution_count": null,
   "id": "median-ancient",
   "metadata": {},
   "outputs": [],
   "source": []
  }
 ],
 "metadata": {
  "kernelspec": {
   "display_name": "Python 3",
   "language": "python",
   "name": "python3"
  },
  "language_info": {
   "codemirror_mode": {
    "name": "ipython",
    "version": 3
   },
   "file_extension": ".py",
   "mimetype": "text/x-python",
   "name": "python",
   "nbconvert_exporter": "python",
   "pygments_lexer": "ipython3",
   "version": "3.7.2"
  }
 },
 "nbformat": 4,
 "nbformat_minor": 5
}
